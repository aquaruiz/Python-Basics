{
 "cells": [
  {
   "cell_type": "code",
   "execution_count": 5,
   "metadata": {},
   "outputs": [
    {
     "name": "stdout",
     "output_type": "stream",
     "text": [
      "1\n"
     ]
    }
   ],
   "source": [
    "grade = float(input())\n",
    "if grade >= 5.5:\n",
    "    print(\"Excellent!\")"
   ]
  },
  {
   "cell_type": "code",
   "execution_count": 7,
   "metadata": {},
   "outputs": [
    {
     "name": "stdout",
     "output_type": "stream",
     "text": [
      "6\n",
      "Excellent!\n"
     ]
    }
   ],
   "source": [
    "grade = float(input())\n",
    "if grade >= 5.5:\n",
    "    print(\"Excellent!\")\n",
    "else:\n",
    "    print(\"Not excellent.\")"
   ]
  },
  {
   "cell_type": "code",
   "execution_count": 10,
   "metadata": {},
   "outputs": [
    {
     "name": "stdout",
     "output_type": "stream",
     "text": [
      "1001\n",
      "odd\n"
     ]
    }
   ],
   "source": [
    "number = int(input())\n",
    "if number % 2 == 0:\n",
    "    print(\"even\")\n",
    "else:\n",
    "    print(\"odd\")"
   ]
  },
  {
   "cell_type": "code",
   "execution_count": 13,
   "metadata": {},
   "outputs": [
    {
     "name": "stdout",
     "output_type": "stream",
     "text": [
      "2\n",
      "0\n",
      "2\n"
     ]
    }
   ],
   "source": [
    "num1 = int(input())\n",
    "num2 = int(input())\n",
    "\n",
    "if num1 > num2:\n",
    "    print(num1)\n",
    "else:\n",
    "    print(num2)"
   ]
  },
  {
   "cell_type": "code",
   "execution_count": 14,
   "metadata": {},
   "outputs": [
    {
     "name": "stdout",
     "output_type": "stream",
     "text": [
      "7\n",
      "seven\n"
     ]
    }
   ],
   "source": [
    "num = int(input())\n",
    "\n",
    "if num == 1:\n",
    "    print(\"one\")\n",
    "elif num == 2:\n",
    "    print(\"two\")    \n",
    "elif num == 3:\n",
    "    print(\"three\")\n",
    "elif num == 4:\n",
    "    print(\"four\")\n",
    "elif num == 5:\n",
    "    print(\"five\")\n",
    "elif num == 6:\n",
    "    print(\"six\")\n",
    "elif num == 7:\n",
    "    print(\"seven\")\n",
    "elif num == 8:\n",
    "    print(\"eight\")\n",
    "elif num == 9:\n",
    "    print(\"nine\")\n",
    "else:\n",
    "    print(\"number too big\")"
   ]
  },
  {
   "cell_type": "code",
   "execution_count": 22,
   "metadata": {},
   "outputs": [
    {
     "name": "stdout",
     "output_type": "stream",
     "text": [
      "17\n",
      "5\n",
      "22\n"
     ]
    }
   ],
   "source": [
    "number = int(input())\n",
    "score = 0\n",
    "\n",
    "if number <= 100:\n",
    "    score = 5\n",
    "elif number > 1000:\n",
    "    score = 0.1 * number\n",
    "elif number > 100:\n",
    "    score = 0.2 * number\n",
    "    \n",
    "if number % 2 == 0:\n",
    "    score += 1\n",
    "    \n",
    "if number % 10 == 5:\n",
    "    score += 2\n",
    "    \n",
    "print(score)\n",
    "print(score + number)"
   ]
  },
  {
   "cell_type": "code",
   "execution_count": 33,
   "metadata": {},
   "outputs": [
    {
     "name": "stdout",
     "output_type": "stream",
     "text": [
      "14\n",
      "12\n",
      "10\n",
      "0:36\n"
     ]
    }
   ],
   "source": [
    "sec1 = int(input())\n",
    "sec2 = int(input())\n",
    "sec3 = int(input())\n",
    "\n",
    "secs = sec1 + sec2 + sec3\n",
    "mins = int(secs / 60)\n",
    "minSecs = mins * 60\n",
    "txtMinSecs = str(secs - minSecs)\n",
    "\n",
    "if secs - minSecs < 10:\n",
    "    txtMinSecs = \"0\" + txtMinSecs\n",
    "print(str(mins) + \":\" + txtMinSecs)"
   ]
  },
  {
   "cell_type": "code",
   "execution_count": 37,
   "metadata": {},
   "outputs": [
    {
     "name": "stdout",
     "output_type": "stream",
     "text": [
      "450\n",
      "yd\n",
      "km\n",
      "0.41148\n"
     ]
    }
   ],
   "source": [
    "num = float(input())\n",
    "inputUnit = input()\n",
    "outputUnit = input()\n",
    "num2 = 0.0\n",
    "\n",
    "if inputUnit == \"m\":\n",
    "    num2 = num\n",
    "elif inputUnit == \"mm\":\n",
    "    num2 = num / 1000\n",
    "elif inputUnit == \"cm\":\n",
    "    num2 = num / 100\n",
    "elif inputUnit == \"mi\":\n",
    "    num2 = num / 0.000621371192\n",
    "elif inputUnit == \"in\":\n",
    "    num2 = num / 39.3700787\n",
    "elif inputUnit == \"km\":\n",
    "    num2 = num / 0.001\n",
    "elif inputUnit == \"ft\":\n",
    "      num2 = num / 3.2808399\n",
    "elif inputUnit == \"yd\":\n",
    "    num2 = num / 1.0936133\n",
    "\n",
    "if outputUnit == \"m\":\n",
    "    print(str(round(num2, 8)))\n",
    "elif outputUnit == \"mm\":\n",
    "    print(str(round(num2 * 1000, 8)))\n",
    "elif outputUnit == \"cm\":\n",
    "    print(str(round(num2 * 100, 8)))\n",
    "elif outputUnit == \"mi\":\n",
    "    print(str(round(num2 * 0.000621371192, 8)))\n",
    "elif outputUnit == \"in\":\n",
    "    print(str(round(num2 * 39.3700787, 8)))\n",
    "elif outputUnit == \"km\":\n",
    "    print(str(round(num2 * 0.001, 8)))\n",
    "elif outputUnit == \"ft\":\n",
    "    print(str(round(num2 * 3.2808399, 8)))\n",
    "elif outputUnit == \"yd\":\n",
    "    print(str(round(num2 * 1.0936133, 8)))"
   ]
  },
  {
   "cell_type": "code",
   "execution_count": 38,
   "metadata": {},
   "outputs": [
    {
     "name": "stdout",
     "output_type": "stream",
     "text": [
      "2\n",
      "Wrong password!\n"
     ]
    }
   ],
   "source": [
    "passv = input()\n",
    "\n",
    "if passv == \"s3cr3t!P@ssw0rd\":\n",
    "    print(\"Welcome\")\n",
    "else:\n",
    "    print(\"Wrong password!\")"
   ]
  },
  {
   "cell_type": "code",
   "execution_count": 39,
   "metadata": {},
   "outputs": [
    {
     "name": "stdout",
     "output_type": "stream",
     "text": [
      "150\n",
      "Between 100 and 200\n"
     ]
    }
   ],
   "source": [
    "num = int(input())\n",
    "\n",
    "if num < 100:\n",
    "    print(\"Less than 100\")\n",
    "elif 100 <= num & num <= 200:\n",
    "    print(\"Between 100 and 200\")\n",
    "elif num > 200:\n",
    "    print(\"Greater than 200\")"
   ]
  },
  {
   "cell_type": "code",
   "execution_count": 40,
   "metadata": {},
   "outputs": [
    {
     "name": "stdout",
     "output_type": "stream",
     "text": [
      "mama\n",
      "MaMa\n",
      "yes\n"
     ]
    }
   ],
   "source": [
    "firstStr = input()\n",
    "secongStr = input()\n",
    "\n",
    "if firstStr.lower() == secongStr.lower():\n",
    "    print(\"yes\")\n",
    "else: \n",
    "    print(\"no\")\n",
    "            "
   ]
  },
  {
   "cell_type": "code",
   "execution_count": 50,
   "metadata": {},
   "outputs": [
    {
     "name": "stdout",
     "output_type": "stream",
     "text": [
      "100\n",
      "fast\n"
     ]
    }
   ],
   "source": [
    "speed = float(input())\n",
    "\n",
    "if speed <= 10:\n",
    "    print(\"slow\")\n",
    "elif speed <= 50:\n",
    "    print(\"average\")\n",
    "elif speed <= 150:\n",
    "    print(\"fast\")\n",
    "elif speed <= 1000:\n",
    "    print(\"ultra fast\")\n",
    "else:\n",
    "    print(\"extremely fast\")        "
   ]
  },
  {
   "cell_type": "code",
   "execution_count": 2,
   "metadata": {},
   "outputs": [
    {
     "name": "stdout",
     "output_type": "stream",
     "text": [
      "square\n",
      "2\n",
      "4.000\n"
     ]
    }
   ],
   "source": [
    "import math\n",
    "\n",
    "figure = input()\n",
    "\n",
    "if figure == \"square\":\n",
    "    side = float(input())\n",
    "    area = side * side\n",
    "elif figure == \"rectangle\":\n",
    "    width = float(input())\n",
    "    height = float(input())\n",
    "    area = height * width\n",
    "elif figure == \"circle\":\n",
    "    radius = float(input())\n",
    "    area = math.pi * radius * radius\n",
    "elif figure == \"triangle\":\n",
    "    width = float(input())\n",
    "    height = float(input())\n",
    "    area = height * width / 2\n",
    "\n",
    "print(\"%.3f\" %  area)\n",
    "            "
   ]
  },
  {
   "cell_type": "code",
   "execution_count": 18,
   "metadata": {},
   "outputs": [
    {
     "name": "stdout",
     "output_type": "stream",
     "text": [
      "1\n",
      "50\n",
      "2:05\n"
     ]
    }
   ],
   "source": [
    "from datetime import datetime\n",
    "from datetime import timedelta\n",
    "\n",
    "hours = int(input())\n",
    "mins = int(input())\n",
    "mins += 15\n",
    "\n",
    "if mins > 59:\n",
    "    hours += 1\n",
    "    mins = mins % 60\n",
    "if hours > 23:\n",
    "    hours %= 24\n",
    "\n",
    "print(str(hours) + \":\" + \"%02d\" %mins)"
   ]
  },
  {
   "cell_type": "code",
   "execution_count": 20,
   "metadata": {},
   "outputs": [
    {
     "name": "stdout",
     "output_type": "stream",
     "text": [
      "00\n",
      "0\n",
      "0\n",
      "yes\n"
     ]
    }
   ],
   "source": [
    "num1 = int(input())\n",
    "num2 = int(input())\n",
    "num3 = int(input())\n",
    "\n",
    "if num1 == num2 & num1 == num3:\n",
    "    print(\"yes\")\n",
    "else:\n",
    "    print(\"no\")"
   ]
  },
  {
   "cell_type": "code",
   "execution_count": 35,
   "metadata": {},
   "outputs": [
    {
     "name": "stdout",
     "output_type": "stream",
     "text": [
      "3554354\n",
      "invalid number\n"
     ]
    }
   ],
   "source": [
    "import sys\n",
    "num = int(input())\n",
    "\n",
    "a0 = \"zero\"\n",
    "a1 = \"one\"\n",
    "a2 = \"two\"\n",
    "a3 = \"three\"\n",
    "a4 = \"four\"\n",
    "a5 = \"five\"\n",
    "a6 = \"six\"\n",
    "a7 = \"seven\"\n",
    "a8 = \"eight\"\n",
    "a9 = \"nine\"\n",
    "a10 = \"ten\"\n",
    "a11 = \"eleven\"\n",
    "a12 = \"twelve\"\n",
    "a13 = \"thirteen\"\n",
    "a14 = \"fourteen\"\n",
    "a15 = \"fifteen\"\n",
    "a16 = \"sixteen\"\n",
    "a17 = \"seventeen\"\n",
    "a18 = \"eighteen\"\n",
    "a19 = \"nineteen\"\n",
    "a20 = \"twenty\"\n",
    "a30 = \"thirty\"\n",
    "a40 = \"forty\"\n",
    "a50 = \"fifty\"\n",
    "a60 = \"sixty\"\n",
    "a70 = \"seventy\"\n",
    "a80 = \"eighty\"\n",
    "a90 = \"ninety\"\n",
    "a100 = \"one hundred\"\n",
    "     \n",
    "name = \"\" \n",
    "\n",
    "if num == 1:\n",
    "    name = a1\n",
    "elif num == 2:\n",
    "    name = a2\n",
    "elif num == 3:\n",
    "    name = a3\n",
    "elif num == 4:\n",
    "    name = a4\n",
    "elif num == 5:\n",
    "    name = a5\n",
    "elif num == 6:\n",
    "    name = a6\n",
    "elif num == 7:\n",
    "    name = a7\n",
    "elif num == 8:\n",
    "    name = a8\n",
    "elif num == 9:\n",
    "    name = a9\n",
    "elif num == 0:\n",
    "    name = a0\n",
    "elif num == 10:\n",
    "    name = a10\n",
    "elif num == 11:\n",
    "    name = a11\n",
    "elif num == 12:\n",
    "    name = a12\n",
    "elif num == 13:\n",
    "    name = a13\n",
    "elif num == 14:\n",
    "    name = a14\n",
    "elif num == 15:\n",
    "    name = a15\n",
    "elif num == 16:\n",
    "    name = a16\n",
    "elif num == 17:\n",
    "    name = a17\n",
    "elif num == 18:\n",
    "    name = a18\n",
    "elif num == 19: \n",
    "    name = a19\n",
    "\n",
    "if name != \"\":\n",
    "    print(name)\n",
    "\n",
    "if num < 0 or num > 100:\n",
    "    print(\"invalid number\")\n",
    "elif num < 30:\n",
    "    name = a20\n",
    "elif num < 40:\n",
    "    name = a30\n",
    "elif num < 50:\n",
    "      name = a40\n",
    "elif num < 60:\n",
    "      name = a50\n",
    "elif num < 70:\n",
    "    name = a60\n",
    "elif num < 80:\n",
    "    name = a70\n",
    "elif num < 90:\n",
    "    name = a80\n",
    "elif num < 100:\n",
    "    name = a90\n",
    "elif num == 100:\n",
    "    name = a100\n",
    "    \n",
    "if num < 100:           \n",
    "    if num % 10 == 0:\n",
    "        name = name\n",
    "    elif num % 10 == 1:\n",
    "        name = name + \" \" + a1\n",
    "    elif num % 10 == 2:\n",
    "        name = name + \" \" + a2\n",
    "    elif num % 10 == 3:\n",
    "        name = name + \" \" + a3\n",
    "    elif num % 10 == 4:\n",
    "        name = name + \" \" + a4\n",
    "    elif num % 10 == 5:\n",
    "        name = name + \" \" + a5\n",
    "    elif num % 10 == 6:\n",
    "        name = name + \" \" + a6\n",
    "    elif num % 10 == 7:\n",
    "        name = name + \" \" + a7\n",
    "    elif num % 10 == 8:\n",
    "        name = name + \" \" + a8\n",
    "    elif num % 10 == 9:\n",
    "        name = name + \" \" + a9   \n",
    "    \n",
    "if num > 19 and num < 101:\n",
    "    print(name)"
   ]
  },
  {
   "cell_type": "code",
   "execution_count": 46,
   "metadata": {},
   "outputs": [
    {
     "name": "stdout",
     "output_type": "stream",
     "text": [
      "Number is 1\n",
      "Number is 2\n",
      "Number is 3\n",
      "Number is 4\n",
      "Out of loop\n"
     ]
    }
   ],
   "source": [
    "number = 0\n",
    "\n",
    "for number in range(10):\n",
    "   number = number + 1\n",
    "\n",
    "   if number == 5:\n",
    "      break    # break here\n",
    "\n",
    "   print('Number is ' + str(number))\n",
    "\n",
    "print('Out of loop')"
   ]
  }
 ],
 "metadata": {
  "kernelspec": {
   "display_name": "Python 3",
   "language": "python",
   "name": "python3"
  },
  "language_info": {
   "codemirror_mode": {
    "name": "ipython",
    "version": 3
   },
   "file_extension": ".py",
   "mimetype": "text/x-python",
   "name": "python",
   "nbconvert_exporter": "python",
   "pygments_lexer": "ipython3",
   "version": "3.6.4"
  }
 },
 "nbformat": 4,
 "nbformat_minor": 2
}

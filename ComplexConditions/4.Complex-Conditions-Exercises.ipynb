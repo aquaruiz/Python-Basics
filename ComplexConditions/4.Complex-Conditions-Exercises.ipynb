{
 "cells": [
  {
   "cell_type": "code",
   "execution_count": null,
   "metadata": {},
   "outputs": [],
   "source": [
    "age = float(input())\n",
    "gender = input ()\n",
    "\n",
    "if age < 16:\n",
    "    if gender == \"m\":\n",
    "        print(\"Master\")\n",
    "    elif gender == \"f\":\n",
    "        print(\"Miss\")\n",
    "else: \n",
    "    if gender == \"m\":\n",
    "        print(\"Mr.\")\n",
    "    elif gender == \"f\":\n",
    "        print(\"Ms.\")"
   ]
  },
  {
   "cell_type": "code",
   "execution_count": null,
   "metadata": {},
   "outputs": [],
   "source": [
    "product = input().lower()\n",
    "city = input().lower()\n",
    "qnty = float(input())\n",
    "\n",
    "price = 0\n",
    "\n",
    "if city == \"sofia\":\n",
    "    if product == \"coffee\":\n",
    "        price = 0.5\n",
    "    elif product == \"water\":\n",
    "        price = 0.8\n",
    "    elif product == \"beer\":\n",
    "        price = 1.2\n",
    "    elif product == \"sweets\":\n",
    "        price = 1.45\n",
    "    elif product == \"peanuts\":\n",
    "        price = 1.6\n",
    "elif city == \"plovdiv\":\n",
    "    if product == \"coffee\":\n",
    "        price = 0.4\n",
    "    elif product == \"water\":\n",
    "        price = 0.7\n",
    "    elif product == \"beer\":\n",
    "        price = 1.15\n",
    "    elif product == \"sweets\":\n",
    "        price = 1.30\n",
    "    elif product == \"peanuts\":\n",
    "        price = 1.5\n",
    "if city == \"varna\":\n",
    "    if product == \"coffee\":\n",
    "        price = 0.45\n",
    "    elif product == \"water\":\n",
    "        price = 0.7\n",
    "    elif product == \"beer\":\n",
    "        price = 1.1\n",
    "    elif product == \"sweets\":\n",
    "        price = 1.35\n",
    "    elif product == \"peanuts\":\n",
    "        price = 1.55\n",
    "  \n",
    "totalPrice = qnty * price\n",
    "print(\"%.2f\" % totalPrice)"
   ]
  },
  {
   "cell_type": "code",
   "execution_count": null,
   "metadata": {},
   "outputs": [],
   "source": [
    "x1 = float(input())\n",
    "y1 = float(input())\n",
    "x2 = float(input())\n",
    "y2 = float(input())\n",
    "x = float(input())\n",
    "y = float(input())\n",
    "\n",
    "if x >= x1 and x <= x2 and y >= y1 and y <= y2:\n",
    "    print(\"Inside\")\n",
    "else:\n",
    "    print(\"Outside\")"
   ]
  },
  {
   "cell_type": "code",
   "execution_count": null,
   "metadata": {},
   "outputs": [],
   "source": [
    "inp = input()\n",
    "if inp == \"banana\" or inp == \"apple\" or inp == \"kiwi\" or inp == \"cherry\" or inp == \"lemon\" or inp == \"grapes\":\n",
    "    print(\"fruit\")\n",
    "elif inp == \"tomato\" or inp == \"cucumber\" or inp == \"pepper\" or inp == \"carrot\":\n",
    "    print(\"vegetable\")\n",
    "else:\n",
    "    print(\"unknown\")"
   ]
  },
  {
   "cell_type": "code",
   "execution_count": null,
   "metadata": {},
   "outputs": [],
   "source": [
    "num = int(input())\n",
    "isValid = num >= 100 and num <= 200 or num == 0\n",
    "\n",
    "if isValid == False:\n",
    "    print(\"invalid\")"
   ]
  },
  {
   "cell_type": "code",
   "execution_count": null,
   "metadata": {},
   "outputs": [],
   "source": [
    "x1 = float(input())\n",
    "y1 = float(input())\n",
    "x2 = float(input())\n",
    "y2 = float(input())\n",
    "x = float(input())\n",
    "y = float(input())\n",
    "\n",
    "if ((x == x1 or x == x2) and y >= y1 and y <= y2) or ((y == y1 or y == y2) and x >= x1 and x <= x2):\n",
    "    print(\"Border\")\n",
    "else:\n",
    "    print(\"Inside / Outside\")"
   ]
  },
  {
   "cell_type": "code",
   "execution_count": null,
   "metadata": {},
   "outputs": [],
   "source": [
    "fruit = input()\n",
    "day = input()\n",
    "qnty = float(input())\n",
    "price = 0.0\n",
    "            \n",
    "if day == \"Monday\" or day == \"Tuesday\" or day == \"Wednesday\" or day == \"Thursday\" or day == \"Friday\":\n",
    "    if fruit == \"banana\":\n",
    "        price = 2.50\n",
    "    elif fruit == \"apple\":\n",
    "        price = 1.20\n",
    "    elif fruit == \"orange\":\n",
    "        price = 0.85\n",
    "    elif fruit == \"grapefruit\":\n",
    "        price = 1.45\n",
    "    elif fruit == \"kiwi\":\n",
    "        price = 2.70\n",
    "    elif fruit == \"pineapple\":\n",
    "        price = 5.50\n",
    "    elif fruit == \"grapes\":\n",
    "        price = 3.85\n",
    "elif day == \"Saturday\" or day == \"Sunday\":\n",
    "    if fruit == \"banana\":\n",
    "        price = 2.70\n",
    "    elif fruit == \"apple\":\n",
    "        price = 1.25\n",
    "    elif fruit == \"orange\":\n",
    "        price = 0.90\n",
    "    elif fruit == \"grapefruit\":\n",
    "        price = 1.60\n",
    "    elif fruit == \"kiwi\":\n",
    "        price = 3.00\n",
    "    elif fruit == \"pineapple\":\n",
    "        price = 5.60\n",
    "    elif fruit == \"grapes\":\n",
    "        price = 4.20\n",
    "                \n",
    "if price != 0:\n",
    "    print(price * qnty)\n",
    "else:\n",
    "    print(\"error\")            "
   ]
  },
  {
   "cell_type": "code",
   "execution_count": null,
   "metadata": {},
   "outputs": [],
   "source": [
    "town = input().lower()\n",
    "salesVolume = float(input())\n",
    "comission = -1.0\n",
    "\n",
    "if town == \"sofia\":\n",
    "    if salesVolume >= 0 and salesVolume <= 500:\n",
    "        comission = 0.05\n",
    "    elif salesVolume > 500 and salesVolume <= 1000:\n",
    "        comission = 0.07\n",
    "    elif salesVolume > 1000 and salesVolume <= 10000:\n",
    "        comission = 0.08\n",
    "    elif salesVolume >10000:\n",
    "        comission = 0.12\n",
    "elif town == \"varna\":\n",
    "    if salesVolume >= 0 and salesVolume <= 500:\n",
    "        comission = 0.045\n",
    "    elif salesVolume > 500 and salesVolume <= 1000:\n",
    "        comission = 0.075\n",
    "    elif salesVolume > 1000 and salesVolume <= 10000:\n",
    "        comission = 0.1\n",
    "    elif salesVolume > 10000:\n",
    "        comission = 0.13\n",
    "elif town == \"plovdiv\":\n",
    "    if salesVolume >= 0 and salesVolume <= 500:\n",
    "        comission = 0.055\n",
    "    elif salesVolume > 500 and salesVolume <= 1000:\n",
    "        comission = 0.08\n",
    "    elif salesVolume > 1000 and salesVolume <= 10000:\n",
    "        comission = 0.12\n",
    "    elif salesVolume > 10000:\n",
    "        comission = 0.145\n",
    "                \n",
    "if comission != -1:\n",
    "    print(comission * salesVolume)\n",
    "else:\n",
    "    print(\"error\")"
   ]
  },
  {
   "cell_type": "code",
   "execution_count": null,
   "metadata": {},
   "outputs": [],
   "source": [
    "num = int(input())\n",
    "\n",
    "if num == 1:\n",
    "    print(\"Monday\")\n",
    "elif num == 2:\n",
    "    print(\"Tuesday\")\n",
    "elif num == 3:\n",
    "    print(\"Wednesday\")\n",
    "elif num == 4:\n",
    "    print(\"Thursday\")\n",
    "elif num == 5:\n",
    "    print(\"Friday\")\n",
    "elif num == 6:\n",
    "    print(\"Saturday\")\n",
    "elif num == 7:\n",
    "    print(\"Sunday\")\n",
    "else:\n",
    "    print(\"Error\")"
   ]
  },
  {
   "cell_type": "code",
   "execution_count": null,
   "metadata": {},
   "outputs": [],
   "source": [
    "animal = input()\n",
    "\n",
    "if animal == \"dog\":\n",
    "    print(\"mammal\")\n",
    "elif animal == \"crocodile\" or animal == \"tortoise\" or animal == \"snake\":\n",
    "    print(\"reptile\")\n",
    "else:\n",
    "    print(\"unknown\")"
   ]
  },
  {
   "cell_type": "code",
   "execution_count": 1,
   "metadata": {},
   "outputs": [
    {
     "name": "stdout",
     "output_type": "stream",
     "text": [
      "Premiere\n",
      "10\n",
      "12\n",
      "1440.00 leva\n"
     ]
    }
   ],
   "source": [
    "type = input().lower()\n",
    "rows = int(input())\n",
    "cols = int(input())\n",
    "price = 0.0\n",
    "if type == \"premiere\": \n",
    "    price = rows * cols * 12.00\n",
    "elif type == \"normal\":\n",
    "    price = rows * cols * 7.50\n",
    "elif type == \"discount\":\n",
    "    price = rows * cols * 5.00\n",
    "\n",
    "print(\"{0:.2f} leva\".format(price))"
   ]
  },
  {
   "cell_type": "code",
   "execution_count": 7,
   "metadata": {},
   "outputs": [
    {
     "name": "stdout",
     "output_type": "stream",
     "text": [
      "leap\n",
      "2\n",
      "3\n",
      "43\n"
     ]
    }
   ],
   "source": [
    "import math\n",
    "\n",
    "year = input().lower()\n",
    "holidays = int(input())\n",
    "weekendsHome = int(input())\n",
    "\n",
    "weekends = 48 - weekendsHome\n",
    "games = weekends * (3 / 4.0)\n",
    "games += weekendsHome\n",
    "games += holidays * (2 / 3.0)\n",
    "\n",
    "if year == \"leap\":\n",
    "    games += 0.15 * games\n",
    "    \n",
    "games = math.floor(games)\n",
    "print(games)"
   ]
  },
  {
   "cell_type": "code",
   "execution_count": 8,
   "metadata": {},
   "outputs": [
    {
     "name": "stdout",
     "output_type": "stream",
     "text": [
      "2\n",
      "3\n",
      "10\n",
      "outside\n"
     ]
    }
   ],
   "source": [
    "height = int(input())\n",
    "x = int(input())\n",
    "y = int(input())\n",
    "\n",
    "if (x > 0 and x < 3 * height and y > 0 and y < height) or (x > height and x < 2 * height and y > height and y < 4 * height) or (x > height and x < 2 * height and y == height):\n",
    "    print(\"inside\")\n",
    "elif ((x == 0 or x == 3 * height) and y >= 0 and y <= height) or (x >= 0 and x <= 3 * height and (y == 0 or y == height)) or ((x == height or x == 2 * height) and y >= height and y <= 4 * height) or (x >= height and x <= 2 * height and (y == height or y == 4 * height)):\n",
    "    print(\"border\")\n",
    "else:\n",
    "    print(\"outside\")"
   ]
  }
 ],
 "metadata": {
  "kernelspec": {
   "display_name": "Python 3",
   "language": "python",
   "name": "python3"
  },
  "language_info": {
   "codemirror_mode": {
    "name": "ipython",
    "version": 3
   },
   "file_extension": ".py",
   "mimetype": "text/x-python",
   "name": "python",
   "nbconvert_exporter": "python",
   "pygments_lexer": "ipython3",
   "version": "3.6.4"
  }
 },
 "nbformat": 4,
 "nbformat_minor": 2
}

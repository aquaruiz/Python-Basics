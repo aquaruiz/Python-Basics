{
 "cells": [
  {
   "cell_type": "code",
   "execution_count": 47,
   "metadata": {},
   "outputs": [],
   "source": [
    "import math\n",
    "from datetime import datetime  \n",
    "from datetime import timedelta  "
   ]
  },
  {
   "cell_type": "code",
   "execution_count": 1,
   "metadata": {},
   "outputs": [
    {
     "name": "stdout",
     "output_type": "stream",
     "text": [
      "4\n",
      "Square =  16\n"
     ]
    }
   ],
   "source": [
    "a = int(input())\n",
    "area = a**2\n",
    "print(\"Square = \", area)"
   ]
  },
  {
   "cell_type": "code",
   "execution_count": 2,
   "metadata": {},
   "outputs": [
    {
     "name": "stdout",
     "output_type": "stream",
     "text": [
      "Inches = 1\n",
      "Centimeters =  2.54\n"
     ]
    }
   ],
   "source": [
    "inches = float(input(\"Inches = \"))\n",
    "centimeters = inches * 2.54\n",
    "print(\"Centimeters = \", centimeters)"
   ]
  },
  {
   "cell_type": "code",
   "execution_count": 3,
   "metadata": {},
   "outputs": [
    {
     "name": "stdout",
     "output_type": "stream",
     "text": [
      "Emter your name: Petya\n",
      "Hello, Petya!\n"
     ]
    }
   ],
   "source": [
    "name = input(\"Enter your name: \")\n",
    "print(\"Hello, \" + name + \"!\")"
   ]
  },
  {
   "cell_type": "code",
   "execution_count": 10,
   "metadata": {},
   "outputs": [
    {
     "name": "stdout",
     "output_type": "stream",
     "text": [
      "a\n",
      "a\n",
      "2\n",
      "a\n",
      "You are a a, a 2-years old person from a\n"
     ]
    }
   ],
   "source": [
    "firstName = input()\n",
    "lastName = input()\n",
    "age = int(input())\n",
    "town = input()\n",
    "ba = \"You are \" + firstName + \" \" + lastName + \", a \" + str(age) + \"-years old person from \" + town + \".\"\n",
    "print(ba)"
   ]
  },
  {
   "cell_type": "code",
   "execution_count": 12,
   "metadata": {},
   "outputs": [
    {
     "name": "stdout",
     "output_type": "stream",
     "text": [
      "2.5\n",
      "2\n",
      "2\n",
      "4.5\n"
     ]
    }
   ],
   "source": [
    "b1 = float(input())\n",
    "b2 = float(input())\n",
    "h = float(input())\n",
    "area = (b1 + b2) * h / 2\n",
    "print(area)"
   ]
  },
  {
   "cell_type": "code",
   "execution_count": 18,
   "metadata": {},
   "outputs": [
    {
     "name": "stdout",
     "output_type": "stream",
     "text": [
      "3\n",
      "Area = 28.274333882308138\n",
      "Perimeter = 18.84955592153876\n"
     ]
    }
   ],
   "source": [
    "r = float(input())\n",
    "area = math.pi * r * r\n",
    "perimeter = 2 * math.pi * r\n",
    "print(\"Area =\", area)\n",
    "print(\"Perimeter =\", perimeter)"
   ]
  },
  {
   "cell_type": "code",
   "execution_count": 21,
   "metadata": {},
   "outputs": [
    {
     "name": "stdout",
     "output_type": "stream",
     "text": [
      "60\n",
      "20\n",
      "10\n",
      "50\n",
      "Area = 1500.0\n",
      "Perimeter = 160.0\n"
     ]
    }
   ],
   "source": [
    "x1 = float(input())\n",
    "y1 = float(input())\n",
    "x2 = float(input())\n",
    "y2 = float(input())\n",
    "width = max(x1, x2) - min(x1, x2)\n",
    "height = max(y1, y2) - min(y1, y2)\n",
    "print(\"Area =\", width * height);\n",
    "print(\"Perimeter =\", 2 * (width + height))"
   ]
  },
  {
   "cell_type": "code",
   "execution_count": 27,
   "metadata": {},
   "outputs": [
    {
     "name": "stdout",
     "output_type": "stream",
     "text": [
      "4.5555\n",
      "5.33333\n",
      "Triangle area = 12.15\n"
     ]
    }
   ],
   "source": [
    "a = float(input())\n",
    "h = float(input())\n",
    "area = a * h / 2;\n",
    "print(\"Triangle area =\", float(\"{0:.2f}\".format(area)))"
   ]
  },
  {
   "cell_type": "code",
   "execution_count": 28,
   "metadata": {},
   "outputs": [
    {
     "name": "stdout",
     "output_type": "stream",
     "text": [
      "2\n",
      "Fahrenheit = 35.60\n"
     ]
    }
   ],
   "source": [
    "Celsius = float(input())\n",
    "Fahrenheit = Celsius * 9 / 5 + 32;\n",
    "print(\"Fahrenheit =\", \"%.2f\" %Fahrenheit);"
   ]
  },
  {
   "cell_type": "code",
   "execution_count": 29,
   "metadata": {},
   "outputs": [
    {
     "name": "stdout",
     "output_type": "stream",
     "text": [
      "2\n",
      "Degrees = 115.0\n"
     ]
    }
   ],
   "source": [
    "rad = float(input())\n",
    "deg = rad * 180 / math.pi;\n",
    "print(\"Degrees =\", round(deg, 0));"
   ]
  },
  {
   "cell_type": "code",
   "execution_count": 32,
   "metadata": {},
   "outputs": [
    {
     "name": "stdout",
     "output_type": "stream",
     "text": [
      "Enter USD \n",
      "2\n",
      "3.59 BGN\n"
     ]
    }
   ],
   "source": [
    "print(\"Enter USD \")\n",
    "usd = float(input())\n",
    "bgn = usd * 1.79549;\n",
    "print(str(round(bgn, 2)) + \" BGN\")"
   ]
  },
  {
   "cell_type": "code",
   "execution_count": 41,
   "metadata": {},
   "outputs": [
    {
     "name": "stdout",
     "output_type": "stream",
     "text": [
      "20\n",
      "USD\n",
      "BGN\n",
      "35.91 BGN\n"
     ]
    }
   ],
   "source": [
    "coins = float(input())\n",
    "currency1 = input()\n",
    "currency2 = input()\n",
    "if currency1 == \"BGN\":\n",
    "    if currency2 == \"USD\":\n",
    "        convertedAmount = round((coins / 1.79549), 2)\n",
    "        print(str(convertedAmount) + \" USD\")\n",
    "    elif currency2 == \"EUR\":\n",
    "        convertedAmount = round((coins / 1.95583), 2)\n",
    "        print(str(convertedAmount) + \" EUR\")\n",
    "    elif currency2 == \"GBP\":\n",
    "        convertedAmount = round((coins / 2.53405), 2)\n",
    "        print(str(convertedAmount) + \" GBP\")\n",
    "    elif currency2 == \"BGN\":\n",
    "        convertedAmount = coins\n",
    "        print(str(convertedAmount) + \" BGN\")\n",
    "elif currency1 == \"USD\":\n",
    "    if currency2 == \"BGN\":\n",
    "        convertedAmount = round((coins * 1.79549), 2)\n",
    "        print(str(convertedAmount) + \" BGN\")\n",
    "    elif currency2 == \"EUR\":\n",
    "        convertedAmount = round((coins * 1.79549 / 1.95583), 2)\n",
    "        print(str(convertedAmount) + \" EUR\")\n",
    "    elif currency2 == \"GBP\":\n",
    "        convertedAmount = round((coins * 1.79549 / 2.53405), 2)\n",
    "        print(str(convertedAmount) + \" GBP\")\n",
    "    elif currency2 == \"USD\":\n",
    "        convertedAmount = coins\n",
    "        print(str(convertedAmount) + \" USD\")\n",
    "elif currency1 == \"EUR\":\n",
    "    if currency2 == \"BGN\":\n",
    "        convertedAmount = round((coins * 1.95583 / 1), 2)\n",
    "        print(str(convertedAmount) + \" BGN\")\n",
    "    elif currency2 == \"USD\":\n",
    "        convertedAmount = round((coins * 1.95583 / 1.79549), 2)\n",
    "        print(str(convertedAmount) + \" USD\")\n",
    "    elif currency2 == \"GBP\":         \n",
    "        convertedAmount = round((coins * 1.95583 / 2.53405), 2)\n",
    "        print(str(convertedAmount) + \" GBP\")\n",
    "    elif currency2 == \"EUR\":\n",
    "        convertedAmount = coins\n",
    "        print(str(convertedAmount) + \" EUR\")\n",
    "elif currency1 == \"GBP\":\n",
    "    if currency2 == \"BGN\":\n",
    "        convertedAmount = round((coins * 2.53405 / 1), 2)\n",
    "        print(str(convertedAmount) + \" BGN\")\n",
    "    elif currency2 == \"USD\":\n",
    "        convertedAmount = round((coins * 2.53405 / 1.79549), 2)\n",
    "        print(str(convertedAmount) + \" USD\")\n",
    "    elif currency2 == \"EUR\":\n",
    "        convertedAmount = round((coins * 2.53405 / 1.95583), 2)\n",
    "        print(str(convertedAmount) + \" EUR\")\n",
    "    elif currency2 == \"GBP\":\n",
    "        convertedAmount = coins\n",
    "        print(str(convertedAmount) + \" GBP\")\n",
    "else:\n",
    "    print(\"Wrong Currency!\")            "
   ]
  },
  {
   "cell_type": "code",
   "execution_count": 49,
   "metadata": {},
   "outputs": [
    {
     "name": "stdout",
     "output_type": "stream",
     "text": [
      "25-02-1995\n"
     ]
    },
    {
     "ename": "ValueError",
     "evalue": "unconverted data remains: 95",
     "output_type": "error",
     "traceback": [
      "\u001b[1;31m---------------------------------------------------------------------------\u001b[0m",
      "\u001b[1;31mValueError\u001b[0m                                Traceback (most recent call last)",
      "\u001b[1;32m<ipython-input-49-ce9daf685281>\u001b[0m in \u001b[0;36m<module>\u001b[1;34m()\u001b[0m\n\u001b[0;32m      1\u001b[0m \u001b[0muserDate\u001b[0m \u001b[1;33m=\u001b[0m \u001b[0minput\u001b[0m\u001b[1;33m(\u001b[0m\u001b[1;33m)\u001b[0m\u001b[1;33m\u001b[0m\u001b[0m\n\u001b[1;32m----> 2\u001b[1;33m \u001b[0mdate\u001b[0m \u001b[1;33m=\u001b[0m \u001b[0mdatetime\u001b[0m\u001b[1;33m.\u001b[0m\u001b[0mstrptime\u001b[0m\u001b[1;33m(\u001b[0m\u001b[0muserDate\u001b[0m\u001b[1;33m,\u001b[0m \u001b[1;34m'%d-%m-%y'\u001b[0m\u001b[1;33m)\u001b[0m\u001b[1;33m\u001b[0m\u001b[0m\n\u001b[0m\u001b[0;32m      3\u001b[0m \u001b[0mresultDate\u001b[0m \u001b[1;33m=\u001b[0m \u001b[0mdate\u001b[0m\u001b[1;33m+\u001b[0m \u001b[0mtimedelta\u001b[0m\u001b[1;33m(\u001b[0m\u001b[0mdays\u001b[0m\u001b[1;33m=\u001b[0m\u001b[1;36m999\u001b[0m\u001b[1;33m)\u001b[0m\u001b[1;33m\u001b[0m\u001b[0m\n\u001b[0;32m      4\u001b[0m \u001b[0mprint\u001b[0m\u001b[1;33m(\u001b[0m\u001b[0mresultDate\u001b[0m\u001b[1;33m.\u001b[0m\u001b[0mformat\u001b[0m\u001b[1;33m(\u001b[0m\u001b[1;34m\"dd-MM-yyyy\"\u001b[0m\u001b[1;33m)\u001b[0m\u001b[1;33m)\u001b[0m\u001b[1;33m\u001b[0m\u001b[0m\n",
      "\u001b[1;32m~\\Anaconda3\\lib\\_strptime.py\u001b[0m in \u001b[0;36m_strptime_datetime\u001b[1;34m(cls, data_string, format)\u001b[0m\n\u001b[0;32m    563\u001b[0m     \"\"\"Return a class cls instance based on the input string and the\n\u001b[0;32m    564\u001b[0m     format string.\"\"\"\n\u001b[1;32m--> 565\u001b[1;33m     \u001b[0mtt\u001b[0m\u001b[1;33m,\u001b[0m \u001b[0mfraction\u001b[0m \u001b[1;33m=\u001b[0m \u001b[0m_strptime\u001b[0m\u001b[1;33m(\u001b[0m\u001b[0mdata_string\u001b[0m\u001b[1;33m,\u001b[0m \u001b[0mformat\u001b[0m\u001b[1;33m)\u001b[0m\u001b[1;33m\u001b[0m\u001b[0m\n\u001b[0m\u001b[0;32m    566\u001b[0m     \u001b[0mtzname\u001b[0m\u001b[1;33m,\u001b[0m \u001b[0mgmtoff\u001b[0m \u001b[1;33m=\u001b[0m \u001b[0mtt\u001b[0m\u001b[1;33m[\u001b[0m\u001b[1;33m-\u001b[0m\u001b[1;36m2\u001b[0m\u001b[1;33m:\u001b[0m\u001b[1;33m]\u001b[0m\u001b[1;33m\u001b[0m\u001b[0m\n\u001b[0;32m    567\u001b[0m     \u001b[0margs\u001b[0m \u001b[1;33m=\u001b[0m \u001b[0mtt\u001b[0m\u001b[1;33m[\u001b[0m\u001b[1;33m:\u001b[0m\u001b[1;36m6\u001b[0m\u001b[1;33m]\u001b[0m \u001b[1;33m+\u001b[0m \u001b[1;33m(\u001b[0m\u001b[0mfraction\u001b[0m\u001b[1;33m,\u001b[0m\u001b[1;33m)\u001b[0m\u001b[1;33m\u001b[0m\u001b[0m\n",
      "\u001b[1;32m~\\Anaconda3\\lib\\_strptime.py\u001b[0m in \u001b[0;36m_strptime\u001b[1;34m(data_string, format)\u001b[0m\n\u001b[0;32m    363\u001b[0m     \u001b[1;32mif\u001b[0m \u001b[0mlen\u001b[0m\u001b[1;33m(\u001b[0m\u001b[0mdata_string\u001b[0m\u001b[1;33m)\u001b[0m \u001b[1;33m!=\u001b[0m \u001b[0mfound\u001b[0m\u001b[1;33m.\u001b[0m\u001b[0mend\u001b[0m\u001b[1;33m(\u001b[0m\u001b[1;33m)\u001b[0m\u001b[1;33m:\u001b[0m\u001b[1;33m\u001b[0m\u001b[0m\n\u001b[0;32m    364\u001b[0m         raise ValueError(\"unconverted data remains: %s\" %\n\u001b[1;32m--> 365\u001b[1;33m                           data_string[found.end():])\n\u001b[0m\u001b[0;32m    366\u001b[0m \u001b[1;33m\u001b[0m\u001b[0m\n\u001b[0;32m    367\u001b[0m     \u001b[0miso_year\u001b[0m \u001b[1;33m=\u001b[0m \u001b[0myear\u001b[0m \u001b[1;33m=\u001b[0m \u001b[1;32mNone\u001b[0m\u001b[1;33m\u001b[0m\u001b[0m\n",
      "\u001b[1;31mValueError\u001b[0m: unconverted data remains: 95"
     ]
    }
   ],
   "source": [
    "userDate = input()\n",
    "date = datetime.strptime(userDate, '%d-%m-%y')\n",
    "resultDate = date + timedelta(days=999)\n",
    "print(resultDate.format(\"dd-MM-yyyy\"))\n",
    "# test 25-02-1995"
   ]
  }
 ],
 "metadata": {
  "kernelspec": {
   "display_name": "Python 3",
   "language": "python",
   "name": "python3"
  },
  "language_info": {
   "codemirror_mode": {
    "name": "ipython",
    "version": 3
   },
   "file_extension": ".py",
   "mimetype": "text/x-python",
   "name": "python",
   "nbconvert_exporter": "python",
   "pygments_lexer": "ipython3",
   "version": "3.6.4"
  }
 },
 "nbformat": 4,
 "nbformat_minor": 2
}
